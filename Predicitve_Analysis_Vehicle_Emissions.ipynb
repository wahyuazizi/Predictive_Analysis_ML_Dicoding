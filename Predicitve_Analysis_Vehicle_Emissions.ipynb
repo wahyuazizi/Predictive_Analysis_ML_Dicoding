{
  "metadata": {
    "kernelspec": {
      "language": "python",
      "display_name": "Python 3",
      "name": "python3"
    },
    "language_info": {
      "name": "python",
      "version": "3.10.12",
      "mimetype": "text/x-python",
      "codemirror_mode": {
        "name": "ipython",
        "version": 3
      },
      "pygments_lexer": "ipython3",
      "nbconvert_exporter": "python",
      "file_extension": ".py"
    },
    "kaggle": {
      "accelerator": "nvidiaTeslaT4",
      "dataSources": [
        {
          "sourceType": "datasetVersion",
          "sourceId": 10222490,
          "datasetId": 6319498,
          "databundleVersionId": 10515988
        },
        {
          "sourceType": "datasetVersion",
          "sourceId": 10207243,
          "datasetId": 6308153,
          "databundleVersionId": 10498867
        },
        {
          "sourceType": "datasetVersion",
          "sourceId": 9966803,
          "datasetId": 6131261,
          "databundleVersionId": 10231149
        }
      ],
      "dockerImageVersionId": 30823,
      "isInternetEnabled": true,
      "language": "python",
      "sourceType": "notebook",
      "isGpuEnabled": true
    },
    "colab": {
      "name": "Predicitve_Analysis_Vehicle_Emissions",
      "provenance": [],
      "include_colab_link": true
    }
  },
  "nbformat_minor": 0,
  "nbformat": 4,
  "cells": [
    {
      "cell_type": "markdown",
      "metadata": {
        "id": "view-in-github",
        "colab_type": "text"
      },
      "source": [
        "<a href=\"https://colab.research.google.com/github/wahyuazizi/Predictive_Analysis_ML_Dicoding/blob/main/Predicitve_Analysis_Vehicle_Emissions.ipynb\" target=\"_parent\"><img src=\"https://colab.research.google.com/assets/colab-badge.svg\" alt=\"Open In Colab\"/></a>"
      ]
    },
    {
      "source": [
        "# IMPORTANT: SOME KAGGLE DATA SOURCES ARE PRIVATE\n",
        "# RUN THIS CELL IN ORDER TO IMPORT YOUR KAGGLE DATA SOURCES.\n",
        "import kagglehub\n",
        "kagglehub.login()\n"
      ],
      "metadata": {
        "id": "oT7_tx_AmHq5"
      },
      "cell_type": "code",
      "outputs": [],
      "execution_count": null
    },
    {
      "source": [
        "# IMPORTANT: RUN THIS CELL IN ORDER TO IMPORT YOUR KAGGLE DATA SOURCES,\n",
        "# THEN FEEL FREE TO DELETE THIS CELL.\n",
        "# NOTE: THIS NOTEBOOK ENVIRONMENT DIFFERS FROM KAGGLE'S PYTHON\n",
        "# ENVIRONMENT SO THERE MAY BE MISSING LIBRARIES USED BY YOUR\n",
        "# NOTEBOOK.\n",
        "\n",
        "brsahan_vehicle_co2_emissions_dataset_path = kagglehub.dataset_download('brsahan/vehicle-co2-emissions-dataset')\n",
        "jeleeladekunlefijabi_ship_fuel_consumption_and_co2_emissions_analysis_path = kagglehub.dataset_download('jeleeladekunlefijabi/ship-fuel-consumption-and-co2-emissions-analysis')\n",
        "wahyuazizi_kagglesjson_path = kagglehub.dataset_download('wahyuazizi/kagglesjson')\n",
        "\n",
        "print('Data source import complete.')\n"
      ],
      "metadata": {
        "id": "LW3H39gsmHq7"
      },
      "cell_type": "code",
      "outputs": [],
      "execution_count": null
    },
    {
      "cell_type": "code",
      "source": [
        "import numpy as np\n",
        "import matplotlib.pyplot as plt\n",
        "import pandas as pd\n",
        "%matplotlib inline\n",
        "import seaborn as sns\n",
        "import kagglehub\n",
        "import os"
      ],
      "metadata": {
        "_uuid": "8f2839f25d086af736a60e9eeb907d3b93b6e0e5",
        "_cell_guid": "b1076dfc-b9ad-4769-8c92-a6c4dae69d19",
        "trusted": true,
        "execution": {
          "iopub.status.busy": "2025-01-03T08:14:00.107322Z",
          "iopub.execute_input": "2025-01-03T08:14:00.107515Z",
          "iopub.status.idle": "2025-01-03T08:14:00.999345Z",
          "shell.execute_reply.started": "2025-01-03T08:14:00.107496Z",
          "shell.execute_reply": "2025-01-03T08:14:00.998476Z"
        },
        "id": "t996MIrMmHq9"
      },
      "outputs": [],
      "execution_count": null
    },
    {
      "cell_type": "markdown",
      "source": [
        "# Data Understanding"
      ],
      "metadata": {
        "id": "QuIQi-aymHq_"
      }
    },
    {
      "cell_type": "markdown",
      "source": [
        "## Data Loading"
      ],
      "metadata": {
        "id": "4secprammHrC"
      }
    },
    {
      "cell_type": "code",
      "source": [
        "# Download\n",
        "path = kagglehub.dataset_download(\"brsahan/vehicle-co2-emissions-dataset\")\n",
        "\n",
        "print(\"path dataset: \", path)"
      ],
      "metadata": {
        "trusted": true,
        "execution": {
          "iopub.status.busy": "2025-01-03T08:14:01.00019Z",
          "iopub.execute_input": "2025-01-03T08:14:01.000513Z",
          "iopub.status.idle": "2025-01-03T08:14:01.659978Z",
          "shell.execute_reply.started": "2025-01-03T08:14:01.000491Z",
          "shell.execute_reply": "2025-01-03T08:14:01.659154Z"
        },
        "id": "Ciieez1gmHrE",
        "outputId": "9415912d-ccb0-4743-ff17-952c4614bb66"
      },
      "outputs": [
        {
          "name": "stdout",
          "text": "path dataset:  /kaggle/input/vehicle-co2-emissions-dataset\n",
          "output_type": "stream"
        }
      ],
      "execution_count": null
    },
    {
      "cell_type": "code",
      "source": [
        "# Cek list file dalam path\n",
        "files = os.listdir(path)\n",
        "print(\"daftar file dalam path:\")\n",
        "for file in files:\n",
        "    print(file)"
      ],
      "metadata": {
        "trusted": true,
        "execution": {
          "iopub.status.busy": "2025-01-03T08:14:01.662215Z",
          "iopub.execute_input": "2025-01-03T08:14:01.662546Z",
          "iopub.status.idle": "2025-01-03T08:14:01.667711Z",
          "shell.execute_reply.started": "2025-01-03T08:14:01.66251Z",
          "shell.execute_reply": "2025-01-03T08:14:01.66677Z"
        },
        "id": "s3sLNN-GmHrG",
        "outputId": "df31ee65-3e89-4c8c-d6dc-475a59ef1f3b"
      },
      "outputs": [
        {
          "name": "stdout",
          "text": "daftar file dalam path:\nco2.csv\n",
          "output_type": "stream"
        }
      ],
      "execution_count": null
    },
    {
      "cell_type": "code",
      "source": [
        "# Load dataset\n",
        "df = pd.read_csv(f\"{path}/{file}\", low_memory=False)\n",
        "print(df.shape)\n",
        "\n",
        "pd.set_option('display.max_columns', None)\n",
        "df.head()"
      ],
      "metadata": {
        "trusted": true,
        "execution": {
          "iopub.status.busy": "2025-01-03T08:14:01.669353Z",
          "iopub.execute_input": "2025-01-03T08:14:01.66962Z",
          "iopub.status.idle": "2025-01-03T08:14:01.706215Z",
          "shell.execute_reply.started": "2025-01-03T08:14:01.669594Z",
          "shell.execute_reply": "2025-01-03T08:14:01.705356Z"
        },
        "id": "2rZboG3qmHrH",
        "outputId": "1fbad06a-cb41-4dd8-9f03-9cd23a323939"
      },
      "outputs": [
        {
          "name": "stdout",
          "text": "(7385, 12)\n",
          "output_type": "stream"
        },
        {
          "execution_count": 4,
          "output_type": "execute_result",
          "data": {
            "text/plain": "    Make       Model Vehicle Class  Engine Size(L)  Cylinders Transmission  \\\n0  ACURA         ILX       COMPACT             2.0          4          AS5   \n1  ACURA         ILX       COMPACT             2.4          4           M6   \n2  ACURA  ILX HYBRID       COMPACT             1.5          4          AV7   \n3  ACURA     MDX 4WD   SUV - SMALL             3.5          6          AS6   \n4  ACURA     RDX AWD   SUV - SMALL             3.5          6          AS6   \n\n  Fuel Type  Fuel Consumption City (L/100 km)  \\\n0         Z                               9.9   \n1         Z                              11.2   \n2         Z                               6.0   \n3         Z                              12.7   \n4         Z                              12.1   \n\n   Fuel Consumption Hwy (L/100 km)  Fuel Consumption Comb (L/100 km)  \\\n0                              6.7                               8.5   \n1                              7.7                               9.6   \n2                              5.8                               5.9   \n3                              9.1                              11.1   \n4                              8.7                              10.6   \n\n   Fuel Consumption Comb (mpg)  CO2 Emissions(g/km)  \n0                           33                  196  \n1                           29                  221  \n2                           48                  136  \n3                           25                  255  \n4                           27                  244  ",
            "text/html": "<div>\n<style scoped>\n    .dataframe tbody tr th:only-of-type {\n        vertical-align: middle;\n    }\n\n    .dataframe tbody tr th {\n        vertical-align: top;\n    }\n\n    .dataframe thead th {\n        text-align: right;\n    }\n</style>\n<table border=\"1\" class=\"dataframe\">\n  <thead>\n    <tr style=\"text-align: right;\">\n      <th></th>\n      <th>Make</th>\n      <th>Model</th>\n      <th>Vehicle Class</th>\n      <th>Engine Size(L)</th>\n      <th>Cylinders</th>\n      <th>Transmission</th>\n      <th>Fuel Type</th>\n      <th>Fuel Consumption City (L/100 km)</th>\n      <th>Fuel Consumption Hwy (L/100 km)</th>\n      <th>Fuel Consumption Comb (L/100 km)</th>\n      <th>Fuel Consumption Comb (mpg)</th>\n      <th>CO2 Emissions(g/km)</th>\n    </tr>\n  </thead>\n  <tbody>\n    <tr>\n      <th>0</th>\n      <td>ACURA</td>\n      <td>ILX</td>\n      <td>COMPACT</td>\n      <td>2.0</td>\n      <td>4</td>\n      <td>AS5</td>\n      <td>Z</td>\n      <td>9.9</td>\n      <td>6.7</td>\n      <td>8.5</td>\n      <td>33</td>\n      <td>196</td>\n    </tr>\n    <tr>\n      <th>1</th>\n      <td>ACURA</td>\n      <td>ILX</td>\n      <td>COMPACT</td>\n      <td>2.4</td>\n      <td>4</td>\n      <td>M6</td>\n      <td>Z</td>\n      <td>11.2</td>\n      <td>7.7</td>\n      <td>9.6</td>\n      <td>29</td>\n      <td>221</td>\n    </tr>\n    <tr>\n      <th>2</th>\n      <td>ACURA</td>\n      <td>ILX HYBRID</td>\n      <td>COMPACT</td>\n      <td>1.5</td>\n      <td>4</td>\n      <td>AV7</td>\n      <td>Z</td>\n      <td>6.0</td>\n      <td>5.8</td>\n      <td>5.9</td>\n      <td>48</td>\n      <td>136</td>\n    </tr>\n    <tr>\n      <th>3</th>\n      <td>ACURA</td>\n      <td>MDX 4WD</td>\n      <td>SUV - SMALL</td>\n      <td>3.5</td>\n      <td>6</td>\n      <td>AS6</td>\n      <td>Z</td>\n      <td>12.7</td>\n      <td>9.1</td>\n      <td>11.1</td>\n      <td>25</td>\n      <td>255</td>\n    </tr>\n    <tr>\n      <th>4</th>\n      <td>ACURA</td>\n      <td>RDX AWD</td>\n      <td>SUV - SMALL</td>\n      <td>3.5</td>\n      <td>6</td>\n      <td>AS6</td>\n      <td>Z</td>\n      <td>12.1</td>\n      <td>8.7</td>\n      <td>10.6</td>\n      <td>27</td>\n      <td>244</td>\n    </tr>\n  </tbody>\n</table>\n</div>"
          },
          "metadata": {}
        }
      ],
      "execution_count": null
    },
    {
      "cell_type": "markdown",
      "source": [
        "Dari hasil diatas diperoleh:\n",
        "* total record sebanyak\n",
        "* terdapat"
      ],
      "metadata": {
        "id": "nqhwO43pmHrJ"
      }
    },
    {
      "cell_type": "markdown",
      "source": [
        "## Exploratory Data Analysis"
      ],
      "metadata": {
        "id": "x-J5dzyBmHrJ"
      }
    },
    {
      "cell_type": "markdown",
      "source": [
        "### EDA - Deskripsi Variabel\n",
        "\n",
        "| **Nama Variabel**            | **Deskripsi**                                                                                     |\n",
        "|-------------------------------|---------------------------------------------------------------------------------------------------|\n",
        "| **Brand_ID**                 | Identifikasi unik untuk setiap merek.                                                             |\n",
        "| **Brand_Name**               | Nama merek.                                                                                       |\n",
        "| **Country**                  | Negara tempat merek beroperasi atau berbasis.                                                    |\n",
        "| **Year**                     | Tahun operasi atau pengumpulan data untuk merek.                                                 |\n",
        "| **Sustainability_Rating**    | Peringkat keberlanjutan merek (misalnya, A, B, C, D).                                             |\n",
        "| **Material_Type**            | Jenis bahan utama yang digunakan oleh merek (misalnya, Tencel, Vegan Leather, Bamboo Fabric).     |\n",
        "| **Eco_Friendly_Manufacturing** | Menunjukkan apakah merek menggunakan praktik manufaktur ramah lingkungan (Ya/Tidak).             |\n",
        "| **Carbon_Footprint_MT**      | Jejak karbon merek yang diukur dalam metrik ton (MT).                                             |\n",
        "| **Water_Usage_Liters**       | Jumlah air yang digunakan oleh merek dalam liter.                                                |\n",
        "| **Waste_Production_KG**      | Jumlah limbah yang dihasilkan oleh merek dalam kilogram (KG).                                     |\n",
        "| **Recycling_Programs**       | Menunjukkan apakah merek memiliki program daur ulang (Ya/Tidak).                                  |\n",
        "| **Product_Lines**            | Jumlah lini produk yang ditawarkan oleh merek.                                                   |\n",
        "| **Average_Price_USD**        | Harga rata-rata produk yang dijual oleh merek dalam USD.                                         |\n",
        "| **Market_Trend**             | Tren pasar saat ini untuk merek (misalnya, Growing, Stable).                                      |\n",
        "| **Certifications**           | Sertifikasi yang dimiliki oleh merek (misalnya, GOTS, B Corp, OEKO-TEX, Fair Trade).             |\n"
      ],
      "metadata": {
        "id": "ry4NXhQjmHrK"
      }
    },
    {
      "cell_type": "code",
      "source": [
        "df.info()"
      ],
      "metadata": {
        "trusted": true,
        "execution": {
          "iopub.status.busy": "2025-01-03T08:14:01.70717Z",
          "iopub.execute_input": "2025-01-03T08:14:01.707465Z",
          "iopub.status.idle": "2025-01-03T08:14:01.719024Z",
          "shell.execute_reply.started": "2025-01-03T08:14:01.707435Z",
          "shell.execute_reply": "2025-01-03T08:14:01.718084Z"
        },
        "id": "8XyGFDrImHrL",
        "outputId": "ff1f4248-6314-4104-a95e-4c215f5f2edc"
      },
      "outputs": [
        {
          "name": "stdout",
          "text": "<class 'pandas.core.frame.DataFrame'>\nRangeIndex: 7385 entries, 0 to 7384\nData columns (total 12 columns):\n #   Column                            Non-Null Count  Dtype  \n---  ------                            --------------  -----  \n 0   Make                              7385 non-null   object \n 1   Model                             7385 non-null   object \n 2   Vehicle Class                     7385 non-null   object \n 3   Engine Size(L)                    7385 non-null   float64\n 4   Cylinders                         7385 non-null   int64  \n 5   Transmission                      7385 non-null   object \n 6   Fuel Type                         7385 non-null   object \n 7   Fuel Consumption City (L/100 km)  7385 non-null   float64\n 8   Fuel Consumption Hwy (L/100 km)   7385 non-null   float64\n 9   Fuel Consumption Comb (L/100 km)  7385 non-null   float64\n 10  Fuel Consumption Comb (mpg)       7385 non-null   int64  \n 11  CO2 Emissions(g/km)               7385 non-null   int64  \ndtypes: float64(4), int64(3), object(5)\nmemory usage: 692.5+ KB\n",
          "output_type": "stream"
        }
      ],
      "execution_count": null
    },
    {
      "cell_type": "markdown",
      "source": [
        "### EDA - Cleaning Data"
      ],
      "metadata": {
        "id": "PsLJVQYomHrM"
      }
    },
    {
      "cell_type": "markdown",
      "source": [
        "#### Menangani Missing Value"
      ],
      "metadata": {
        "id": "pF7NCT-imHrM"
      }
    },
    {
      "cell_type": "code",
      "source": [
        "print(\"Daftar Missing Value:\\n\", df.isnull().sum())"
      ],
      "metadata": {
        "trusted": true,
        "execution": {
          "iopub.status.busy": "2025-01-03T08:14:01.719938Z",
          "iopub.execute_input": "2025-01-03T08:14:01.720188Z",
          "iopub.status.idle": "2025-01-03T08:14:01.730026Z",
          "shell.execute_reply.started": "2025-01-03T08:14:01.720167Z",
          "shell.execute_reply": "2025-01-03T08:14:01.72917Z"
        },
        "id": "ZFwG4Z88mHrM",
        "outputId": "d17a286d-2a49-4e8d-c8e1-85832ee667cc"
      },
      "outputs": [
        {
          "name": "stdout",
          "text": "Daftar Missing Value:\n Make                                0\nModel                               0\nVehicle Class                       0\nEngine Size(L)                      0\nCylinders                           0\nTransmission                        0\nFuel Type                           0\nFuel Consumption City (L/100 km)    0\nFuel Consumption Hwy (L/100 km)     0\nFuel Consumption Comb (L/100 km)    0\nFuel Consumption Comb (mpg)         0\nCO2 Emissions(g/km)                 0\ndtype: int64\n",
          "output_type": "stream"
        }
      ],
      "execution_count": null
    },
    {
      "cell_type": "markdown",
      "source": [
        "#### Menangani Outliers"
      ],
      "metadata": {
        "id": "MU9YavRgmHrN"
      }
    },
    {
      "cell_type": "code",
      "source": [
        "df.describe()"
      ],
      "metadata": {
        "trusted": true,
        "execution": {
          "iopub.status.busy": "2025-01-03T08:14:01.731105Z",
          "iopub.execute_input": "2025-01-03T08:14:01.731386Z",
          "iopub.status.idle": "2025-01-03T08:14:01.765344Z",
          "shell.execute_reply.started": "2025-01-03T08:14:01.731358Z",
          "shell.execute_reply": "2025-01-03T08:14:01.764498Z"
        },
        "id": "wi8YsSE1mHrN",
        "outputId": "07dfeb81-f8b1-4f9b-d803-1599d685f454"
      },
      "outputs": [
        {
          "execution_count": 7,
          "output_type": "execute_result",
          "data": {
            "text/plain": "       Engine Size(L)    Cylinders  Fuel Consumption City (L/100 km)  \\\ncount     7385.000000  7385.000000                       7385.000000   \nmean         3.160068     5.615030                         12.556534   \nstd          1.354170     1.828307                          3.500274   \nmin          0.900000     3.000000                          4.200000   \n25%          2.000000     4.000000                         10.100000   \n50%          3.000000     6.000000                         12.100000   \n75%          3.700000     6.000000                         14.600000   \nmax          8.400000    16.000000                         30.600000   \n\n       Fuel Consumption Hwy (L/100 km)  Fuel Consumption Comb (L/100 km)  \\\ncount                      7385.000000                       7385.000000   \nmean                          9.041706                         10.975071   \nstd                           2.224456                          2.892506   \nmin                           4.000000                          4.100000   \n25%                           7.500000                          8.900000   \n50%                           8.700000                         10.600000   \n75%                          10.200000                         12.600000   \nmax                          20.600000                         26.100000   \n\n       Fuel Consumption Comb (mpg)  CO2 Emissions(g/km)  \ncount                  7385.000000          7385.000000  \nmean                     27.481652           250.584699  \nstd                       7.231879            58.512679  \nmin                      11.000000            96.000000  \n25%                      22.000000           208.000000  \n50%                      27.000000           246.000000  \n75%                      32.000000           288.000000  \nmax                      69.000000           522.000000  ",
            "text/html": "<div>\n<style scoped>\n    .dataframe tbody tr th:only-of-type {\n        vertical-align: middle;\n    }\n\n    .dataframe tbody tr th {\n        vertical-align: top;\n    }\n\n    .dataframe thead th {\n        text-align: right;\n    }\n</style>\n<table border=\"1\" class=\"dataframe\">\n  <thead>\n    <tr style=\"text-align: right;\">\n      <th></th>\n      <th>Engine Size(L)</th>\n      <th>Cylinders</th>\n      <th>Fuel Consumption City (L/100 km)</th>\n      <th>Fuel Consumption Hwy (L/100 km)</th>\n      <th>Fuel Consumption Comb (L/100 km)</th>\n      <th>Fuel Consumption Comb (mpg)</th>\n      <th>CO2 Emissions(g/km)</th>\n    </tr>\n  </thead>\n  <tbody>\n    <tr>\n      <th>count</th>\n      <td>7385.000000</td>\n      <td>7385.000000</td>\n      <td>7385.000000</td>\n      <td>7385.000000</td>\n      <td>7385.000000</td>\n      <td>7385.000000</td>\n      <td>7385.000000</td>\n    </tr>\n    <tr>\n      <th>mean</th>\n      <td>3.160068</td>\n      <td>5.615030</td>\n      <td>12.556534</td>\n      <td>9.041706</td>\n      <td>10.975071</td>\n      <td>27.481652</td>\n      <td>250.584699</td>\n    </tr>\n    <tr>\n      <th>std</th>\n      <td>1.354170</td>\n      <td>1.828307</td>\n      <td>3.500274</td>\n      <td>2.224456</td>\n      <td>2.892506</td>\n      <td>7.231879</td>\n      <td>58.512679</td>\n    </tr>\n    <tr>\n      <th>min</th>\n      <td>0.900000</td>\n      <td>3.000000</td>\n      <td>4.200000</td>\n      <td>4.000000</td>\n      <td>4.100000</td>\n      <td>11.000000</td>\n      <td>96.000000</td>\n    </tr>\n    <tr>\n      <th>25%</th>\n      <td>2.000000</td>\n      <td>4.000000</td>\n      <td>10.100000</td>\n      <td>7.500000</td>\n      <td>8.900000</td>\n      <td>22.000000</td>\n      <td>208.000000</td>\n    </tr>\n    <tr>\n      <th>50%</th>\n      <td>3.000000</td>\n      <td>6.000000</td>\n      <td>12.100000</td>\n      <td>8.700000</td>\n      <td>10.600000</td>\n      <td>27.000000</td>\n      <td>246.000000</td>\n    </tr>\n    <tr>\n      <th>75%</th>\n      <td>3.700000</td>\n      <td>6.000000</td>\n      <td>14.600000</td>\n      <td>10.200000</td>\n      <td>12.600000</td>\n      <td>32.000000</td>\n      <td>288.000000</td>\n    </tr>\n    <tr>\n      <th>max</th>\n      <td>8.400000</td>\n      <td>16.000000</td>\n      <td>30.600000</td>\n      <td>20.600000</td>\n      <td>26.100000</td>\n      <td>69.000000</td>\n      <td>522.000000</td>\n    </tr>\n  </tbody>\n</table>\n</div>"
          },
          "metadata": {}
        }
      ],
      "execution_count": null
    },
    {
      "cell_type": "code",
      "source": [
        "numerical_features = df.select_dtypes(include=np.number).columns\n",
        "\n",
        "n_cols = 2\n",
        "n_rows = (len(numerical_features) + n_cols -1) // n_cols"
      ],
      "metadata": {
        "trusted": true,
        "execution": {
          "iopub.status.busy": "2025-01-03T08:14:01.766179Z",
          "iopub.execute_input": "2025-01-03T08:14:01.766461Z",
          "iopub.status.idle": "2025-01-03T08:14:01.772093Z",
          "shell.execute_reply.started": "2025-01-03T08:14:01.766432Z",
          "shell.execute_reply": "2025-01-03T08:14:01.771231Z"
        },
        "id": "cswU71lgmHrP"
      },
      "outputs": [],
      "execution_count": null
    },
    {
      "cell_type": "code",
      "source": [
        "# setup figure dengan subplot\n",
        "fig, axes = plt.subplots(n_rows, n_cols, figsize=(12, 4 * n_rows))\n",
        "\n",
        "axes = axes.flatten()\n",
        "for i in range(len(numerical_features)):\n",
        "    sns.boxplot(ax=axes[i], x=df[numerical_features[i]])\n",
        "    axes[i].set_title(numerical_features[i])\n",
        "\n",
        "for j in range(i+1, len(axes)):\n",
        "    fig.delaxes(axes[j])\n",
        "\n",
        "plt.tight_layout()\n",
        "plt.show()"
      ],
      "metadata": {
        "trusted": true,
        "execution": {
          "iopub.status.busy": "2025-01-03T08:14:01.772965Z",
          "iopub.execute_input": "2025-01-03T08:14:01.773263Z",
          "iopub.status.idle": "2025-01-03T08:14:02.738303Z",
          "shell.execute_reply.started": "2025-01-03T08:14:01.773233Z",
          "shell.execute_reply": "2025-01-03T08:14:02.737355Z"
        },
        "id": "zMqgEF14mHrQ",
        "outputId": "ce0ec582-3cdc-4be9-ac59-d8576cdd5eca"
      },
      "outputs": [
        {
          "output_type": "display_data",
          "data": {
            "text/plain": "<Figure size 1200x1600 with 7 Axes>",
            "image/png": "[encoded data removed]"
          },
          "metadata": {}
        }
      ],
      "execution_count": null
    },
    {
      "cell_type": "code",
      "source": [
        "numerical_features = df.select_dtypes(include=['number'])\n",
        "\n",
        "Q1 = numerical_features.quantile(0.25)\n",
        "Q3 = numerical_features.quantile(0.75)\n",
        "IQR = Q3 - Q1\n",
        "\n",
        "# Menyaring outlier berdasarkan IQR\n",
        "df_cleaned = df[~((numerical_features < (Q1 - 1.5 * IQR)) | (numerical_features > (Q3 + 1.5 * IQR))).any(axis=1)]\n"
      ],
      "metadata": {
        "trusted": true,
        "execution": {
          "iopub.status.busy": "2025-01-03T08:16:07.067494Z",
          "iopub.execute_input": "2025-01-03T08:16:07.067844Z",
          "iopub.status.idle": "2025-01-03T08:16:07.08057Z",
          "shell.execute_reply.started": "2025-01-03T08:16:07.067781Z",
          "shell.execute_reply": "2025-01-03T08:16:07.079901Z"
        },
        "id": "FD_AGfmDmHrR"
      },
      "outputs": [],
      "execution_count": null
    },
    {
      "cell_type": "code",
      "source": [
        "df_cleaned.shape"
      ],
      "metadata": {
        "trusted": true,
        "execution": {
          "iopub.status.busy": "2025-01-03T08:20:09.110843Z",
          "iopub.execute_input": "2025-01-03T08:20:09.111162Z",
          "iopub.status.idle": "2025-01-03T08:20:09.116037Z",
          "shell.execute_reply.started": "2025-01-03T08:20:09.111137Z",
          "shell.execute_reply": "2025-01-03T08:20:09.115264Z"
        },
        "id": "MsJbjAx6mHrS",
        "outputId": "688f9e41-84b0-462e-db5b-e08ab8aec623"
      },
      "outputs": [
        {
          "execution_count": 16,
          "output_type": "execute_result",
          "data": {
            "text/plain": "(6826, 12)"
          },
          "metadata": {}
        }
      ],
      "execution_count": null
    },
    {
      "cell_type": "markdown",
      "source": [
        "### EDA - Univariate Analysis"
      ],
      "metadata": {
        "id": "5y_wBHx4mHrU"
      }
    },
    {
      "cell_type": "markdown",
      "source": [
        "#### Categorical Features"
      ],
      "metadata": {
        "id": "eybaRU-ImHrV"
      }
    },
    {
      "cell_type": "code",
      "source": [
        "categorical_features = df.select_dtypes(include=['object'])\n",
        "categorical_features = categorical_features.drop(columns=['Model'])"
      ],
      "metadata": {
        "trusted": true,
        "execution": {
          "iopub.status.busy": "2025-01-03T08:14:02.908113Z",
          "iopub.status.idle": "2025-01-03T08:14:02.90835Z",
          "execution_failed": "2025-01-03T08:58:29.494Z"
        },
        "id": "W6fSKXvGmHrV"
      },
      "outputs": [],
      "execution_count": null
    },
    {
      "cell_type": "code",
      "source": [
        "import matplotlib.pyplot as plt\n",
        "\n",
        "def plot_feature_distribution(features, ax):\n",
        "    # Calculate value counts and percentages\n",
        "    count = df[features].value_counts()\n",
        "    percent = 100 * df[features].value_counts(normalize=True)\n",
        "    df_summary = pd.DataFrame({'jumlah sampel': count, 'persentase': percent.round(1)})\n",
        "\n",
        "    # Plot the bar chart on the provided axis (ax)\n",
        "    count.plot(kind='bar', ax=ax, title=f\"Distribusi untuk {features}\")\n",
        "    ax.set_xticklabels(count.index, rotation=45, ha='right')\n",
        "    ax.set_ylabel(\"Jumlah Sampel\")\n",
        "    ax.set_xlabel(features)\n",
        "\n",
        "    # Annotate the bars with percentage values\n",
        "    for p in ax.patches:\n",
        "        height = p.get_height()\n",
        "        x = p.get_x() + p.get_width() / 2  # Get x-coordinate for the label\n",
        "\n",
        "        # Find the corresponding percentage for each category\n",
        "        category_index = count.index.get_loc(count.index[int(x)])  # Match the index of the category\n",
        "        percentage = percent.iloc[category_index]  # Get the percentage for this category\n",
        "\n",
        "        # Add the percentage value as text on top of each bar\n",
        "        ax.text(x, height + 1, f'{percentage:.1f}%', ha='center', fontsize=10)\n"
      ],
      "metadata": {
        "trusted": true,
        "execution": {
          "iopub.status.busy": "2025-01-03T08:14:02.908976Z",
          "iopub.status.idle": "2025-01-03T08:14:02.90925Z",
          "execution_failed": "2025-01-03T08:58:29.495Z"
        },
        "id": "nX8dA0T6mHrV"
      },
      "outputs": [],
      "execution_count": null
    },
    {
      "cell_type": "code",
      "source": [
        "# Create a new figure with multiple subplots\n",
        "n_cols = 2  # Tentukan jumlah kolom\n",
        "n_rows = (len(categorical_features.columns) + n_cols - 1) // n_cols  # Menentukan jumlah baris secara otomatis\n",
        "fig, axes = plt.subplots(n_rows, n_cols, figsize=(14, 4 * n_rows))  # Sesuaikan ukuran figure\n",
        "\n",
        "# Flatten axes array untuk mempermudah indexing\n",
        "axes = axes.flatten()\n",
        "\n",
        "# Loop melalui fitur kategorikal dan plot\n",
        "for i, feature in enumerate(categorical_features.columns):\n",
        "    plot_feature_distribution(feature, axes[i])\n",
        "\n",
        "# Menghapus subplot yang tidak terpakai jika ada\n",
        "for j in range(i+1, len(axes)):\n",
        "    fig.delaxes(axes[j])\n",
        "\n",
        "plt.tight_layout()  # Sesuaikan tata letak agar lebih rapat\n",
        "plt.show()\n"
      ],
      "metadata": {
        "trusted": true,
        "execution": {
          "iopub.status.busy": "2025-01-03T08:14:02.909899Z",
          "iopub.status.idle": "2025-01-03T08:14:02.910178Z",
          "execution_failed": "2025-01-03T08:58:29.496Z"
        },
        "id": "pBaB7xglmHrW"
      },
      "outputs": [],
      "execution_count": null
    },
    {
      "cell_type": "markdown",
      "source": [
        "#### Numerical Features"
      ],
      "metadata": {
        "id": "H3V_gYjCmHrW"
      }
    },
    {
      "cell_type": "code",
      "source": [
        "df.hist(bins=50, figsize=(20,15))\n",
        "plt.show"
      ],
      "metadata": {
        "trusted": true,
        "execution": {
          "iopub.status.busy": "2025-01-03T08:14:02.910938Z",
          "iopub.status.idle": "2025-01-03T08:14:02.911227Z",
          "execution_failed": "2025-01-03T08:58:29.496Z"
        },
        "id": "81tZXnfmmHrX"
      },
      "outputs": [],
      "execution_count": null
    },
    {
      "cell_type": "markdown",
      "source": [
        "### EDA - Multivariate Analysis"
      ],
      "metadata": {
        "id": "r-W_8_-omHrX"
      }
    },
    {
      "cell_type": "markdown",
      "source": [
        "#### Categorical Features"
      ],
      "metadata": {
        "id": "_Mfij8JBmHrX"
      }
    },
    {
      "cell_type": "code",
      "source": [
        "y = ['CO2 Emissions(g/km)']\n",
        "for f in (y):\n",
        "    for col in categorical_features.columns:\n",
        "        sns.catplot(x=col, y=f, kind='bar', dodge=False, height=4, aspect=3, data=df, palette='Set3')\n",
        "        plt.title(f\"Rata-rata '{f}' relatif terhadap - {col}\")"
      ],
      "metadata": {
        "trusted": true,
        "execution": {
          "iopub.status.busy": "2025-01-03T08:14:02.912095Z",
          "iopub.status.idle": "2025-01-03T08:14:02.912354Z",
          "execution_failed": "2025-01-03T08:58:29.497Z"
        },
        "id": "A0d_zZwnmHrX"
      },
      "outputs": [],
      "execution_count": null
    },
    {
      "cell_type": "markdown",
      "source": [
        "#### Numerical Features"
      ],
      "metadata": {
        "id": "1Bq63JSMmHrY"
      }
    },
    {
      "cell_type": "code",
      "source": [
        "sns.pairplot(df, hue=\"Fuel Type\")"
      ],
      "metadata": {
        "trusted": true,
        "execution": {
          "iopub.status.busy": "2025-01-03T08:14:02.913918Z",
          "iopub.status.idle": "2025-01-03T08:14:02.914301Z",
          "execution_failed": "2025-01-03T08:58:29.498Z"
        },
        "id": "T1f9DVkrmHrY"
      },
      "outputs": [],
      "execution_count": null
    },
    {
      "cell_type": "code",
      "source": [],
      "metadata": {
        "trusted": true,
        "id": "9w3MJgramHrY"
      },
      "outputs": [],
      "execution_count": null
    }
  ]
}